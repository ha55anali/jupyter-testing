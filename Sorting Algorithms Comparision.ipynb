{
 "cells": [
  {
   "cell_type": "markdown",
   "metadata": {},
   "source": [
    "# Generating Testing Data\n",
    "Use the code to generate random input data for sizes\n",
    "1. 10\n",
    "2. 10^2\n",
    "3. 10^3\n",
    "4. 10^4\n",
    "5. 10^5\n",
    "6. 10^6\n",
    "\n",
    "Types of data to generate\n",
    "1. Random\n",
    "2. Sorted\n",
    "3. Reverse Sorted\n",
    "4. 90% Sorted"
   ]
  },
  {
   "cell_type": "code",
   "execution_count": 15,
   "metadata": {
    "scrolled": true
   },
   "outputs": [],
   "source": [
    "import array as arr\n",
    "import random\n",
    "\n",
    "#store random input\n",
    "inputRand=[]\n",
    "inputSort=[]\n",
    "inputRevSort=[]\n",
    "input90Sort=[]\n",
    "\n",
    "n=10\n",
    "for i in range (0,4):\n",
    "    \n",
    "    #get random input\n",
    "    inputRand.append([])\n",
    "    for x in range(0,n):\n",
    "        inputRand[i].append(random.random())\n",
    "    \n",
    "    #get sorted input\n",
    "    inputSort.append([])\n",
    "    inputSort[i]=inputRand[i].copy()\n",
    "    inputSort[i].sort()\n",
    "    \n",
    "    #get reverse sorted input\n",
    "    inputRevSort.append([])\n",
    "    inputRevSort[i]=inputRand[i].copy()\n",
    "    inputRevSort[i].sort(reverse=True)\n",
    "    \n",
    "    #get 90% sorted\n",
    "    input90Sort.append([])\n",
    "    input90Sort[i][int(n*.9) : ]=inputRand[i].copy()\n",
    "    input90Sort[i].sort()\n",
    "    input90Sort[i]=input90Sort[i]+inputRand[i][: int(n*.1)]\n",
    "    \n",
    "    n=n*10"
   ]
  }
 ],
 "metadata": {
  "kernelspec": {
   "display_name": "Python 3",
   "language": "python",
   "name": "python3"
  },
  "language_info": {
   "codemirror_mode": {
    "name": "ipython",
    "version": 3
   },
   "file_extension": ".py",
   "mimetype": "text/x-python",
   "name": "python",
   "nbconvert_exporter": "python",
   "pygments_lexer": "ipython3",
   "version": "3.7.6"
  }
 },
 "nbformat": 4,
 "nbformat_minor": 4
}
